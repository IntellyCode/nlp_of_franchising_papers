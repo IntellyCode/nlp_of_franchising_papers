{
 "cells": [
  {
   "cell_type": "code",
   "id": "initial_id",
   "metadata": {
    "collapsed": true,
    "ExecuteTime": {
     "end_time": "2025-03-05T18:34:31.166222Z",
     "start_time": "2025-03-05T18:34:26.263264Z"
    }
   },
   "source": [
    "import pickle\n",
    "\n",
    "with open('./output/store/corpus.pkl', 'rb') as f:\n",
    "    corpus, dictionary = pickle.load(f)"
   ],
   "outputs": [],
   "execution_count": 1
  },
  {
   "metadata": {
    "ExecuteTime": {
     "end_time": "2025-03-05T18:34:37.917271Z",
     "start_time": "2025-03-05T18:34:31.168719Z"
    }
   },
   "cell_type": "code",
   "source": [
    "from gensim import models\n",
    "import os\n",
    "lda_directory = os.path.join('./output', 'n_topics_12_min/model')\n",
    "lda_model = models.LdaModel.load(lda_directory)"
   ],
   "id": "b40a02805667211a",
   "outputs": [
    {
     "data": {
      "text/plain": [
       "<gensim.models.ldamulticore.LdaMulticore at 0x7a8a58190ec0>"
      ]
     },
     "execution_count": 2,
     "metadata": {},
     "output_type": "execute_result"
    }
   ],
   "execution_count": 2
  },
  {
   "metadata": {
    "ExecuteTime": {
     "end_time": "2025-03-05T18:34:43.810441Z",
     "start_time": "2025-03-05T18:34:37.919910Z"
    }
   },
   "cell_type": "code",
   "source": [
    "import pyLDAvis\n",
    "import pyLDAvis.gensim_models as gensimvis\n",
    "\n",
    "output = \"n_topics_12_min\"\n",
    "year =\"All_unordered\"\n",
    "output_html = f\"./output/{output}/lda_model_{year}.html\"\n",
    "vis_data = gensimvis.prepare(lda_model, corpus, dictionary, mds=\"mmds\", sort_topics=False)\n",
    "pyLDAvis.save_html(vis_data, output_html)"
   ],
   "id": "3580448e34d5f25c",
   "outputs": [
    {
     "name": "stderr",
     "output_type": "stream",
     "text": [
      "/scratch/go76fil/Programs/Python/Paper_Topic_Modelling/.venv/lib/python3.12/site-packages/joblib/externals/loky/backend/fork_exec.py:38: DeprecationWarning: This process (pid=1938715) is multi-threaded, use of fork() may lead to deadlocks in the child.\n",
      "  pid = os.fork()\n",
      "/scratch/go76fil/Programs/Python/Paper_Topic_Modelling/.venv/lib/python3.12/site-packages/joblib/externals/loky/backend/fork_exec.py:38: DeprecationWarning: This process (pid=1938715) is multi-threaded, use of fork() may lead to deadlocks in the child.\n",
      "  pid = os.fork()\n",
      "/scratch/go76fil/Programs/Python/Paper_Topic_Modelling/.venv/lib/python3.12/site-packages/joblib/externals/loky/backend/fork_exec.py:38: DeprecationWarning: This process (pid=1938715) is multi-threaded, use of fork() may lead to deadlocks in the child.\n",
      "  pid = os.fork()\n",
      "/scratch/go76fil/Programs/Python/Paper_Topic_Modelling/.venv/lib/python3.12/site-packages/joblib/externals/loky/backend/fork_exec.py:38: DeprecationWarning: This process (pid=1938715) is multi-threaded, use of fork() may lead to deadlocks in the child.\n",
      "  pid = os.fork()\n",
      "/scratch/go76fil/Programs/Python/Paper_Topic_Modelling/.venv/lib/python3.12/site-packages/joblib/externals/loky/backend/fork_exec.py:38: DeprecationWarning: This process (pid=1938715) is multi-threaded, use of fork() may lead to deadlocks in the child.\n",
      "  pid = os.fork()\n",
      "/scratch/go76fil/Programs/Python/Paper_Topic_Modelling/.venv/lib/python3.12/site-packages/joblib/externals/loky/backend/fork_exec.py:38: DeprecationWarning: This process (pid=1938715) is multi-threaded, use of fork() may lead to deadlocks in the child.\n",
      "  pid = os.fork()\n",
      "/scratch/go76fil/Programs/Python/Paper_Topic_Modelling/.venv/lib/python3.12/site-packages/joblib/externals/loky/backend/fork_exec.py:38: DeprecationWarning: This process (pid=1938715) is multi-threaded, use of fork() may lead to deadlocks in the child.\n",
      "  pid = os.fork()\n",
      "/scratch/go76fil/Programs/Python/Paper_Topic_Modelling/.venv/lib/python3.12/site-packages/joblib/externals/loky/backend/fork_exec.py:38: DeprecationWarning: This process (pid=1938715) is multi-threaded, use of fork() may lead to deadlocks in the child.\n",
      "  pid = os.fork()\n",
      "/scratch/go76fil/Programs/Python/Paper_Topic_Modelling/.venv/lib/python3.12/site-packages/joblib/externals/loky/backend/fork_exec.py:38: DeprecationWarning: This process (pid=1938715) is multi-threaded, use of fork() may lead to deadlocks in the child.\n",
      "  pid = os.fork()\n"
     ]
    }
   ],
   "execution_count": 3
  }
 ],
 "metadata": {
  "kernelspec": {
   "display_name": "Python 3",
   "language": "python",
   "name": "python3"
  },
  "language_info": {
   "codemirror_mode": {
    "name": "ipython",
    "version": 2
   },
   "file_extension": ".py",
   "mimetype": "text/x-python",
   "name": "python",
   "nbconvert_exporter": "python",
   "pygments_lexer": "ipython2",
   "version": "2.7.6"
  }
 },
 "nbformat": 4,
 "nbformat_minor": 5
}
