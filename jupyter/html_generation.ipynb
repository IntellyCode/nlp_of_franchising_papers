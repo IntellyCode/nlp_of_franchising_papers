{
 "cells": [
  {
   "cell_type": "code",
   "id": "initial_id",
   "metadata": {
    "collapsed": true,
    "ExecuteTime": {
     "end_time": "2025-03-05T19:43:31.387321Z",
     "start_time": "2025-03-05T19:43:22.251587Z"
    }
   },
   "source": [
    "import pickle\n",
    "\n",
    "with open('./output/store/corpus.pkl', 'rb') as f:\n",
    "    corpus, dictionary = pickle.load(f)"
   ],
   "outputs": [],
   "execution_count": 4
  },
  {
   "metadata": {
    "ExecuteTime": {
     "end_time": "2025-03-05T19:43:56.338354Z",
     "start_time": "2025-03-05T19:43:31.390931Z"
    }
   },
   "cell_type": "code",
   "source": [
    "from gensim import models\n",
    "import os\n",
    "lda_directory = os.path.join('./output', 'n_topics_12_med_rare/model')\n",
    "lda_model = models.LdaModel.load(lda_directory)"
   ],
   "id": "b40a02805667211a",
   "outputs": [],
   "execution_count": 5
  },
  {
   "metadata": {
    "ExecuteTime": {
     "end_time": "2025-03-05T19:43:57.946917Z",
     "start_time": "2025-03-05T19:43:56.341065Z"
    }
   },
   "cell_type": "code",
   "source": [
    "import pyLDAvis\n",
    "import pyLDAvis.gensim_models as gensimvis\n",
    "\n",
    "output = \"n_topics_12_med_rare\"\n",
    "year =\"All_unordered\"\n",
    "output_html = f\"./output/{output}/lda_model_{year}.html\"\n",
    "vis_data = gensimvis.prepare(lda_model, corpus, dictionary, mds=\"mmds\", sort_topics=False)\n",
    "pyLDAvis.save_html(vis_data, output_html)"
   ],
   "id": "3580448e34d5f25c",
   "outputs": [
    {
     "ename": "ValidationError",
     "evalue": "\n * Not all rows (distributions) in topic_term_dists sum to 1.",
     "output_type": "error",
     "traceback": [
      "\u001B[0;31m---------------------------------------------------------------------------\u001B[0m",
      "\u001B[0;31mValidationError\u001B[0m                           Traceback (most recent call last)",
      "Cell \u001B[0;32mIn[6], line 7\u001B[0m\n\u001B[1;32m      5\u001B[0m year \u001B[38;5;241m=\u001B[39m\u001B[38;5;124m\"\u001B[39m\u001B[38;5;124mAll_unordered\u001B[39m\u001B[38;5;124m\"\u001B[39m\n\u001B[1;32m      6\u001B[0m output_html \u001B[38;5;241m=\u001B[39m \u001B[38;5;124mf\u001B[39m\u001B[38;5;124m\"\u001B[39m\u001B[38;5;124m./output/\u001B[39m\u001B[38;5;132;01m{\u001B[39;00moutput\u001B[38;5;132;01m}\u001B[39;00m\u001B[38;5;124m/lda_model_\u001B[39m\u001B[38;5;132;01m{\u001B[39;00myear\u001B[38;5;132;01m}\u001B[39;00m\u001B[38;5;124m.html\u001B[39m\u001B[38;5;124m\"\u001B[39m\n\u001B[0;32m----> 7\u001B[0m vis_data \u001B[38;5;241m=\u001B[39m \u001B[43mgensimvis\u001B[49m\u001B[38;5;241;43m.\u001B[39;49m\u001B[43mprepare\u001B[49m\u001B[43m(\u001B[49m\u001B[43mlda_model\u001B[49m\u001B[43m,\u001B[49m\u001B[43m \u001B[49m\u001B[43mcorpus\u001B[49m\u001B[43m,\u001B[49m\u001B[43m \u001B[49m\u001B[43mdictionary\u001B[49m\u001B[43m,\u001B[49m\u001B[43m \u001B[49m\u001B[43mmds\u001B[49m\u001B[38;5;241;43m=\u001B[39;49m\u001B[38;5;124;43m\"\u001B[39;49m\u001B[38;5;124;43mmmds\u001B[39;49m\u001B[38;5;124;43m\"\u001B[39;49m\u001B[43m,\u001B[49m\u001B[43m \u001B[49m\u001B[43msort_topics\u001B[49m\u001B[38;5;241;43m=\u001B[39;49m\u001B[38;5;28;43;01mFalse\u001B[39;49;00m\u001B[43m)\u001B[49m\n\u001B[1;32m      8\u001B[0m pyLDAvis\u001B[38;5;241m.\u001B[39msave_html(vis_data, output_html)\n",
      "File \u001B[0;32m/scratch/go76fil/Programs/Python/Paper_Topic_Modelling/.venv/lib/python3.12/site-packages/pyLDAvis/gensim_models.py:123\u001B[0m, in \u001B[0;36mprepare\u001B[0;34m(topic_model, corpus, dictionary, doc_topic_dist, **kwargs)\u001B[0m\n\u001B[1;32m     78\u001B[0m \u001B[38;5;250m\u001B[39m\u001B[38;5;124;03m\"\"\"Transforms the Gensim TopicModel and related corpus and dictionary into\u001B[39;00m\n\u001B[1;32m     79\u001B[0m \u001B[38;5;124;03mthe data structures needed for the visualization.\u001B[39;00m\n\u001B[1;32m     80\u001B[0m \n\u001B[0;32m   (...)\u001B[0m\n\u001B[1;32m    120\u001B[0m \u001B[38;5;124;03mSee `pyLDAvis.prepare` for **kwargs.\u001B[39;00m\n\u001B[1;32m    121\u001B[0m \u001B[38;5;124;03m\"\"\"\u001B[39;00m\n\u001B[1;32m    122\u001B[0m opts \u001B[38;5;241m=\u001B[39m fp\u001B[38;5;241m.\u001B[39mmerge(_extract_data(topic_model, corpus, dictionary, doc_topic_dist), kwargs)\n\u001B[0;32m--> 123\u001B[0m \u001B[38;5;28;01mreturn\u001B[39;00m \u001B[43mpyLDAvis\u001B[49m\u001B[38;5;241;43m.\u001B[39;49m\u001B[43mprepare\u001B[49m\u001B[43m(\u001B[49m\u001B[38;5;241;43m*\u001B[39;49m\u001B[38;5;241;43m*\u001B[39;49m\u001B[43mopts\u001B[49m\u001B[43m)\u001B[49m\n",
      "File \u001B[0;32m/scratch/go76fil/Programs/Python/Paper_Topic_Modelling/.venv/lib/python3.12/site-packages/pyLDAvis/_prepare.py:408\u001B[0m, in \u001B[0;36mprepare\u001B[0;34m(topic_term_dists, doc_topic_dists, doc_lengths, vocab, term_frequency, R, lambda_step, mds, n_jobs, plot_opts, sort_topics, start_index)\u001B[0m\n\u001B[1;32m    406\u001B[0m doc_lengths \u001B[38;5;241m=\u001B[39m _series_with_name(doc_lengths, \u001B[38;5;124m'\u001B[39m\u001B[38;5;124mdoc_length\u001B[39m\u001B[38;5;124m'\u001B[39m)\n\u001B[1;32m    407\u001B[0m vocab \u001B[38;5;241m=\u001B[39m _series_with_name(vocab, \u001B[38;5;124m'\u001B[39m\u001B[38;5;124mvocab\u001B[39m\u001B[38;5;124m'\u001B[39m)\n\u001B[0;32m--> 408\u001B[0m \u001B[43m_input_validate\u001B[49m\u001B[43m(\u001B[49m\u001B[43mtopic_term_dists\u001B[49m\u001B[43m,\u001B[49m\u001B[43m \u001B[49m\u001B[43mdoc_topic_dists\u001B[49m\u001B[43m,\u001B[49m\u001B[43m \u001B[49m\u001B[43mdoc_lengths\u001B[49m\u001B[43m,\u001B[49m\u001B[43m \u001B[49m\u001B[43mvocab\u001B[49m\u001B[43m,\u001B[49m\u001B[43m \u001B[49m\u001B[43mterm_frequency\u001B[49m\u001B[43m)\u001B[49m\n\u001B[1;32m    409\u001B[0m R \u001B[38;5;241m=\u001B[39m \u001B[38;5;28mmin\u001B[39m(R, \u001B[38;5;28mlen\u001B[39m(vocab))\n\u001B[1;32m    411\u001B[0m topic_freq \u001B[38;5;241m=\u001B[39m doc_topic_dists\u001B[38;5;241m.\u001B[39mmul(doc_lengths, axis\u001B[38;5;241m=\u001B[39m\u001B[38;5;124m\"\u001B[39m\u001B[38;5;124mindex\u001B[39m\u001B[38;5;124m\"\u001B[39m)\u001B[38;5;241m.\u001B[39msum()\n",
      "File \u001B[0;32m/scratch/go76fil/Programs/Python/Paper_Topic_Modelling/.venv/lib/python3.12/site-packages/pyLDAvis/_prepare.py:69\u001B[0m, in \u001B[0;36m_input_validate\u001B[0;34m(*args)\u001B[0m\n\u001B[1;32m     67\u001B[0m res \u001B[38;5;241m=\u001B[39m _input_check(\u001B[38;5;241m*\u001B[39margs)\n\u001B[1;32m     68\u001B[0m \u001B[38;5;28;01mif\u001B[39;00m res:\n\u001B[0;32m---> 69\u001B[0m     \u001B[38;5;28;01mraise\u001B[39;00m ValidationError(\u001B[38;5;124m'\u001B[39m\u001B[38;5;130;01m\\n\u001B[39;00m\u001B[38;5;124m'\u001B[39m \u001B[38;5;241m+\u001B[39m \u001B[38;5;124m'\u001B[39m\u001B[38;5;130;01m\\n\u001B[39;00m\u001B[38;5;124m'\u001B[39m\u001B[38;5;241m.\u001B[39mjoin([\u001B[38;5;124m'\u001B[39m\u001B[38;5;124m * \u001B[39m\u001B[38;5;124m'\u001B[39m \u001B[38;5;241m+\u001B[39m s \u001B[38;5;28;01mfor\u001B[39;00m s \u001B[38;5;129;01min\u001B[39;00m res]))\n",
      "\u001B[0;31mValidationError\u001B[0m: \n * Not all rows (distributions) in topic_term_dists sum to 1."
     ]
    }
   ],
   "execution_count": 6
  }
 ],
 "metadata": {
  "kernelspec": {
   "display_name": "Python 3",
   "language": "python",
   "name": "python3"
  },
  "language_info": {
   "codemirror_mode": {
    "name": "ipython",
    "version": 2
   },
   "file_extension": ".py",
   "mimetype": "text/x-python",
   "name": "python",
   "nbconvert_exporter": "python",
   "pygments_lexer": "ipython2",
   "version": "2.7.6"
  }
 },
 "nbformat": 4,
 "nbformat_minor": 5
}
